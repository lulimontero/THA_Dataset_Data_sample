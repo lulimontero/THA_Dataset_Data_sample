{
 "cells": [
  {
   "cell_type": "markdown",
   "id": "561988e1",
   "metadata": {},
   "source": [
    "# Exercise 3. EDA / Python\n",
    "The purpose of this case study is to test your ability to leverage data to generate useful insights. Attached in THA_Dataset_Data_sample.csv you will find data corresponding to all orders which happened during one week (Delivered and Canceled) in the city of Glovalia with all important time"
   ]
  },
  {
   "cell_type": "markdown",
   "id": "a36bcdee",
   "metadata": {},
   "source": [
    "# Import Libraries"
   ]
  },
  {
   "cell_type": "code",
   "execution_count": 1,
   "id": "4222528b",
   "metadata": {},
   "outputs": [],
   "source": [
    "# standard\n",
    "import numpy as np\n",
    "import pandas as pd\n",
    "import time\n",
    "\n",
    "# plots\n",
    "import matplotlib.pyplot as plt\n",
    "import seaborn as sns\n",
    "\n",
    "# other"
   ]
  },
  {
   "cell_type": "markdown",
   "id": "b935d3d9",
   "metadata": {},
   "source": [
    "# Get Data"
   ]
  },
  {
   "cell_type": "code",
   "execution_count": 2,
   "id": "c692dc78",
   "metadata": {},
   "outputs": [],
   "source": [
    "df = pd.read_csv(\"THA_Dataset_Data_sample.csv\")"
   ]
  },
  {
   "cell_type": "code",
   "execution_count": 8,
   "id": "3276bcd8",
   "metadata": {},
   "outputs": [
    {
     "data": {
      "text/plain": [
       "(2471, 17)"
      ]
     },
     "execution_count": 8,
     "metadata": {},
     "output_type": "execute_result"
    }
   ],
   "source": [
    "df.shape"
   ]
  },
  {
   "cell_type": "code",
   "execution_count": 3,
   "id": "c3bd2d76",
   "metadata": {},
   "outputs": [
    {
     "data": {
      "text/html": [
       "<div>\n",
       "<style scoped>\n",
       "    .dataframe tbody tr th:only-of-type {\n",
       "        vertical-align: middle;\n",
       "    }\n",
       "\n",
       "    .dataframe tbody tr th {\n",
       "        vertical-align: top;\n",
       "    }\n",
       "\n",
       "    .dataframe thead th {\n",
       "        text-align: right;\n",
       "    }\n",
       "</style>\n",
       "<table border=\"1\" class=\"dataframe\">\n",
       "  <thead>\n",
       "    <tr style=\"text-align: right;\">\n",
       "      <th></th>\n",
       "      <th>id</th>\n",
       "      <th>final_status</th>\n",
       "      <th>store_address_id</th>\n",
       "      <th>customer_id</th>\n",
       "      <th>courier_id</th>\n",
       "      <th>vertical</th>\n",
       "      <th>is_food</th>\n",
       "      <th>transport</th>\n",
       "      <th>number_of_assignments</th>\n",
       "      <th>total_real_distance</th>\n",
       "      <th>activation_time_local</th>\n",
       "      <th>last_courier_assigned_time</th>\n",
       "      <th>courier_started_order_local</th>\n",
       "      <th>courier_enters_pickup_time_local</th>\n",
       "      <th>pickup_time_local</th>\n",
       "      <th>courier_enters_delivery_point_time_local</th>\n",
       "      <th>termination_time</th>\n",
       "    </tr>\n",
       "  </thead>\n",
       "  <tbody>\n",
       "    <tr>\n",
       "      <th>0</th>\n",
       "      <td>53134335</td>\n",
       "      <td>DeliveredStatus</td>\n",
       "      <td>85260.0</td>\n",
       "      <td>18579597</td>\n",
       "      <td>20153483</td>\n",
       "      <td>WALL - Partner</td>\n",
       "      <td>True</td>\n",
       "      <td>BICYCLE</td>\n",
       "      <td>1</td>\n",
       "      <td>6.029</td>\n",
       "      <td>7/13/2019 13:04:44</td>\n",
       "      <td>7/13/2019 13:05:32</td>\n",
       "      <td>7/13/2019 13:06:49</td>\n",
       "      <td>7/13/2019 13:09:13</td>\n",
       "      <td>7/13/2019 13:28:45</td>\n",
       "      <td>7/13/2019 13:46:58</td>\n",
       "      <td>7/13/2019 13:59:49</td>\n",
       "    </tr>\n",
       "    <tr>\n",
       "      <th>1</th>\n",
       "      <td>53009545</td>\n",
       "      <td>DeliveredStatus</td>\n",
       "      <td>23517.0</td>\n",
       "      <td>11871195</td>\n",
       "      <td>20153483</td>\n",
       "      <td>WALL - Partner</td>\n",
       "      <td>True</td>\n",
       "      <td>BICYCLE</td>\n",
       "      <td>1</td>\n",
       "      <td>3.998</td>\n",
       "      <td>7/12/2019 20:06:29</td>\n",
       "      <td>7/12/2019 20:10:42</td>\n",
       "      <td>7/12/2019 20:11:02</td>\n",
       "      <td>7/12/2019 20:16:05</td>\n",
       "      <td>7/12/2019 20:23:07</td>\n",
       "      <td>7/12/2019 20:37:53</td>\n",
       "      <td>7/12/2019 20:43:01</td>\n",
       "    </tr>\n",
       "    <tr>\n",
       "      <th>2</th>\n",
       "      <td>53129297</td>\n",
       "      <td>DeliveredStatus</td>\n",
       "      <td>18300.0</td>\n",
       "      <td>1053786</td>\n",
       "      <td>20153483</td>\n",
       "      <td>WALL - Partner</td>\n",
       "      <td>True</td>\n",
       "      <td>BICYCLE</td>\n",
       "      <td>1</td>\n",
       "      <td>5.309</td>\n",
       "      <td>7/13/2019 12:14:58</td>\n",
       "      <td>7/13/2019 12:15:44</td>\n",
       "      <td>7/13/2019 12:23:40</td>\n",
       "      <td>7/13/2019 12:45:16</td>\n",
       "      <td>7/13/2019 12:50:09</td>\n",
       "      <td>7/13/2019 12:55:16</td>\n",
       "      <td>7/13/2019 12:59:23</td>\n",
       "    </tr>\n",
       "    <tr>\n",
       "      <th>3</th>\n",
       "      <td>53235752</td>\n",
       "      <td>CanceledStatus</td>\n",
       "      <td>85260.0</td>\n",
       "      <td>20466508</td>\n",
       "      <td>20153483</td>\n",
       "      <td>WALL - Partner</td>\n",
       "      <td>True</td>\n",
       "      <td>BICYCLE</td>\n",
       "      <td>1</td>\n",
       "      <td>6.429</td>\n",
       "      <td>7/13/2019 21:55:58</td>\n",
       "      <td>7/13/2019 22:24:58</td>\n",
       "      <td>7/13/2019 22:24:58</td>\n",
       "      <td>NaN</td>\n",
       "      <td>NaN</td>\n",
       "      <td>NaN</td>\n",
       "      <td>7/13/2019 22:25:15</td>\n",
       "    </tr>\n",
       "    <tr>\n",
       "      <th>4</th>\n",
       "      <td>53002671</td>\n",
       "      <td>DeliveredStatus</td>\n",
       "      <td>15912.0</td>\n",
       "      <td>16549489</td>\n",
       "      <td>20153483</td>\n",
       "      <td>WALL - Partner</td>\n",
       "      <td>True</td>\n",
       "      <td>BICYCLE</td>\n",
       "      <td>1</td>\n",
       "      <td>3.442</td>\n",
       "      <td>7/12/2019 19:40:13</td>\n",
       "      <td>7/12/2019 19:41:14</td>\n",
       "      <td>7/12/2019 19:42:34</td>\n",
       "      <td>7/12/2019 19:46:28</td>\n",
       "      <td>7/12/2019 19:56:59</td>\n",
       "      <td>7/12/2019 20:07:08</td>\n",
       "      <td>7/12/2019 20:10:37</td>\n",
       "    </tr>\n",
       "  </tbody>\n",
       "</table>\n",
       "</div>"
      ],
      "text/plain": [
       "         id     final_status  store_address_id  customer_id  courier_id  \\\n",
       "0  53134335  DeliveredStatus           85260.0     18579597    20153483   \n",
       "1  53009545  DeliveredStatus           23517.0     11871195    20153483   \n",
       "2  53129297  DeliveredStatus           18300.0      1053786    20153483   \n",
       "3  53235752   CanceledStatus           85260.0     20466508    20153483   \n",
       "4  53002671  DeliveredStatus           15912.0     16549489    20153483   \n",
       "\n",
       "         vertical  is_food transport  number_of_assignments  \\\n",
       "0  WALL - Partner     True   BICYCLE                      1   \n",
       "1  WALL - Partner     True   BICYCLE                      1   \n",
       "2  WALL - Partner     True   BICYCLE                      1   \n",
       "3  WALL - Partner     True   BICYCLE                      1   \n",
       "4  WALL - Partner     True   BICYCLE                      1   \n",
       "\n",
       "   total_real_distance activation_time_local last_courier_assigned_time  \\\n",
       "0                6.029    7/13/2019 13:04:44         7/13/2019 13:05:32   \n",
       "1                3.998    7/12/2019 20:06:29         7/12/2019 20:10:42   \n",
       "2                5.309    7/13/2019 12:14:58         7/13/2019 12:15:44   \n",
       "3                6.429    7/13/2019 21:55:58         7/13/2019 22:24:58   \n",
       "4                3.442    7/12/2019 19:40:13         7/12/2019 19:41:14   \n",
       "\n",
       "  courier_started_order_local courier_enters_pickup_time_local  \\\n",
       "0          7/13/2019 13:06:49               7/13/2019 13:09:13   \n",
       "1          7/12/2019 20:11:02               7/12/2019 20:16:05   \n",
       "2          7/13/2019 12:23:40               7/13/2019 12:45:16   \n",
       "3          7/13/2019 22:24:58                              NaN   \n",
       "4          7/12/2019 19:42:34               7/12/2019 19:46:28   \n",
       "\n",
       "    pickup_time_local courier_enters_delivery_point_time_local  \\\n",
       "0  7/13/2019 13:28:45                       7/13/2019 13:46:58   \n",
       "1  7/12/2019 20:23:07                       7/12/2019 20:37:53   \n",
       "2  7/13/2019 12:50:09                       7/13/2019 12:55:16   \n",
       "3                 NaN                                      NaN   \n",
       "4  7/12/2019 19:56:59                       7/12/2019 20:07:08   \n",
       "\n",
       "     termination_time  \n",
       "0  7/13/2019 13:59:49  \n",
       "1  7/12/2019 20:43:01  \n",
       "2  7/13/2019 12:59:23  \n",
       "3  7/13/2019 22:25:15  \n",
       "4  7/12/2019 20:10:37  "
      ]
     },
     "execution_count": 3,
     "metadata": {},
     "output_type": "execute_result"
    }
   ],
   "source": [
    "df.head()"
   ]
  },
  {
   "cell_type": "code",
   "execution_count": 4,
   "id": "052580ef",
   "metadata": {},
   "outputs": [
    {
     "name": "stdout",
     "output_type": "stream",
     "text": [
      "<class 'pandas.core.frame.DataFrame'>\n",
      "RangeIndex: 2471 entries, 0 to 2470\n",
      "Data columns (total 17 columns):\n",
      " #   Column                                    Non-Null Count  Dtype  \n",
      "---  ------                                    --------------  -----  \n",
      " 0   id                                        2471 non-null   int64  \n",
      " 1   final_status                              2471 non-null   object \n",
      " 2   store_address_id                          2440 non-null   float64\n",
      " 3   customer_id                               2471 non-null   int64  \n",
      " 4   courier_id                                2471 non-null   int64  \n",
      " 5   vertical                                  2471 non-null   object \n",
      " 6   is_food                                   2471 non-null   bool   \n",
      " 7   transport                                 2471 non-null   object \n",
      " 8   number_of_assignments                     2471 non-null   int64  \n",
      " 9   total_real_distance                       2471 non-null   float64\n",
      " 10  activation_time_local                     2471 non-null   object \n",
      " 11  last_courier_assigned_time                2471 non-null   object \n",
      " 12  courier_started_order_local               2471 non-null   object \n",
      " 13  courier_enters_pickup_time_local          2410 non-null   object \n",
      " 14  pickup_time_local                         2410 non-null   object \n",
      " 15  courier_enters_delivery_point_time_local  2404 non-null   object \n",
      " 16  termination_time                          2471 non-null   object \n",
      "dtypes: bool(1), float64(2), int64(4), object(10)\n",
      "memory usage: 311.4+ KB\n"
     ]
    }
   ],
   "source": [
    "df.info()"
   ]
  },
  {
   "cell_type": "code",
   "execution_count": 5,
   "id": "51f04d50",
   "metadata": {},
   "outputs": [
    {
     "data": {
      "text/plain": [
       "<Axes: >"
      ]
     },
     "execution_count": 5,
     "metadata": {},
     "output_type": "execute_result"
    },
    {
     "data": {
      "image/png": "[encoded data removed]",
      "text/plain": [
       "<Figure size 640x480 with 1 Axes>"
      ]
     },
     "metadata": {},
     "output_type": "display_data"
    }
   ],
   "source": [
    "# Nulls\n",
    "sns.heatmap(df.isnull(),yticklabels=False,cbar=False,cmap='viridis')"
   ]
  },
  {
   "cell_type": "code",
   "execution_count": 6,
   "id": "82577b78",
   "metadata": {},
   "outputs": [
    {
     "data": {
      "text/plain": [
       "id                                           0\n",
       "final_status                                 0\n",
       "store_address_id                            31\n",
       "customer_id                                  0\n",
       "courier_id                                   0\n",
       "vertical                                     0\n",
       "is_food                                      0\n",
       "transport                                    0\n",
       "number_of_assignments                        0\n",
       "total_real_distance                          0\n",
       "activation_time_local                        0\n",
       "last_courier_assigned_time                   0\n",
       "courier_started_order_local                  0\n",
       "courier_enters_pickup_time_local            61\n",
       "pickup_time_local                           61\n",
       "courier_enters_delivery_point_time_local    67\n",
       "termination_time                             0\n",
       "dtype: int64"
      ]
     },
     "execution_count": 6,
     "metadata": {},
     "output_type": "execute_result"
    }
   ],
   "source": [
    "df.isnull().sum()"
   ]
  },
  {
   "cell_type": "code",
   "execution_count": 7,
   "id": "0f1e2ce4",
   "metadata": {},
   "outputs": [
    {
     "name": "stdout",
     "output_type": "stream",
     "text": [
      "Number of duplicated rows: 0\n"
     ]
    }
   ],
   "source": [
    "# Duplicados\n",
    "print(f'Number of duplicated rows: {df.duplicated().sum()}')\n",
    "#df = df.drop_duplicates()\n",
    "#df.shape"
   ]
  },
  {
   "cell_type": "markdown",
   "id": "94d68443",
   "metadata": {},
   "source": [
    "# Datetime"
   ]
  },
  {
   "cell_type": "code",
   "execution_count": 22,
   "id": "4c8e6207",
   "metadata": {},
   "outputs": [
    {
     "data": {
      "text/html": [
       "<div>\n",
       "<style scoped>\n",
       "    .dataframe tbody tr th:only-of-type {\n",
       "        vertical-align: middle;\n",
       "    }\n",
       "\n",
       "    .dataframe tbody tr th {\n",
       "        vertical-align: top;\n",
       "    }\n",
       "\n",
       "    .dataframe thead th {\n",
       "        text-align: right;\n",
       "    }\n",
       "</style>\n",
       "<table border=\"1\" class=\"dataframe\">\n",
       "  <thead>\n",
       "    <tr style=\"text-align: right;\">\n",
       "      <th></th>\n",
       "      <th>id</th>\n",
       "      <th>final_status</th>\n",
       "      <th>store_address_id</th>\n",
       "      <th>customer_id</th>\n",
       "      <th>courier_id</th>\n",
       "      <th>vertical</th>\n",
       "      <th>is_food</th>\n",
       "      <th>transport</th>\n",
       "      <th>number_of_assignments</th>\n",
       "      <th>total_real_distance</th>\n",
       "      <th>activation_time_local</th>\n",
       "      <th>last_courier_assigned_time</th>\n",
       "      <th>courier_started_order_local</th>\n",
       "      <th>courier_enters_pickup_time_local</th>\n",
       "      <th>pickup_time_local</th>\n",
       "      <th>courier_enters_delivery_point_time_local</th>\n",
       "      <th>termination_time</th>\n",
       "    </tr>\n",
       "  </thead>\n",
       "  <tbody>\n",
       "    <tr>\n",
       "      <th>0</th>\n",
       "      <td>53134335</td>\n",
       "      <td>DeliveredStatus</td>\n",
       "      <td>85260.0</td>\n",
       "      <td>18579597</td>\n",
       "      <td>20153483</td>\n",
       "      <td>WALL - Partner</td>\n",
       "      <td>True</td>\n",
       "      <td>BICYCLE</td>\n",
       "      <td>1</td>\n",
       "      <td>6.029</td>\n",
       "      <td>7/13/2019 13:04:44</td>\n",
       "      <td>7/13/2019 13:05:32</td>\n",
       "      <td>7/13/2019 13:06:49</td>\n",
       "      <td>7/13/2019 13:09:13</td>\n",
       "      <td>7/13/2019 13:28:45</td>\n",
       "      <td>7/13/2019 13:46:58</td>\n",
       "      <td>7/13/2019 13:59:49</td>\n",
       "    </tr>\n",
       "    <tr>\n",
       "      <th>1</th>\n",
       "      <td>53009545</td>\n",
       "      <td>DeliveredStatus</td>\n",
       "      <td>23517.0</td>\n",
       "      <td>11871195</td>\n",
       "      <td>20153483</td>\n",
       "      <td>WALL - Partner</td>\n",
       "      <td>True</td>\n",
       "      <td>BICYCLE</td>\n",
       "      <td>1</td>\n",
       "      <td>3.998</td>\n",
       "      <td>7/12/2019 20:06:29</td>\n",
       "      <td>7/12/2019 20:10:42</td>\n",
       "      <td>7/12/2019 20:11:02</td>\n",
       "      <td>7/12/2019 20:16:05</td>\n",
       "      <td>7/12/2019 20:23:07</td>\n",
       "      <td>7/12/2019 20:37:53</td>\n",
       "      <td>7/12/2019 20:43:01</td>\n",
       "    </tr>\n",
       "    <tr>\n",
       "      <th>2</th>\n",
       "      <td>53129297</td>\n",
       "      <td>DeliveredStatus</td>\n",
       "      <td>18300.0</td>\n",
       "      <td>1053786</td>\n",
       "      <td>20153483</td>\n",
       "      <td>WALL - Partner</td>\n",
       "      <td>True</td>\n",
       "      <td>BICYCLE</td>\n",
       "      <td>1</td>\n",
       "      <td>5.309</td>\n",
       "      <td>7/13/2019 12:14:58</td>\n",
       "      <td>7/13/2019 12:15:44</td>\n",
       "      <td>7/13/2019 12:23:40</td>\n",
       "      <td>7/13/2019 12:45:16</td>\n",
       "      <td>7/13/2019 12:50:09</td>\n",
       "      <td>7/13/2019 12:55:16</td>\n",
       "      <td>7/13/2019 12:59:23</td>\n",
       "    </tr>\n",
       "    <tr>\n",
       "      <th>3</th>\n",
       "      <td>53235752</td>\n",
       "      <td>CanceledStatus</td>\n",
       "      <td>85260.0</td>\n",
       "      <td>20466508</td>\n",
       "      <td>20153483</td>\n",
       "      <td>WALL - Partner</td>\n",
       "      <td>True</td>\n",
       "      <td>BICYCLE</td>\n",
       "      <td>1</td>\n",
       "      <td>6.429</td>\n",
       "      <td>7/13/2019 21:55:58</td>\n",
       "      <td>7/13/2019 22:24:58</td>\n",
       "      <td>7/13/2019 22:24:58</td>\n",
       "      <td>NaN</td>\n",
       "      <td>NaN</td>\n",
       "      <td>NaN</td>\n",
       "      <td>7/13/2019 22:25:15</td>\n",
       "    </tr>\n",
       "    <tr>\n",
       "      <th>4</th>\n",
       "      <td>53002671</td>\n",
       "      <td>DeliveredStatus</td>\n",
       "      <td>15912.0</td>\n",
       "      <td>16549489</td>\n",
       "      <td>20153483</td>\n",
       "      <td>WALL - Partner</td>\n",
       "      <td>True</td>\n",
       "      <td>BICYCLE</td>\n",
       "      <td>1</td>\n",
       "      <td>3.442</td>\n",
       "      <td>7/12/2019 19:40:13</td>\n",
       "      <td>7/12/2019 19:41:14</td>\n",
       "      <td>7/12/2019 19:42:34</td>\n",
       "      <td>7/12/2019 19:46:28</td>\n",
       "      <td>7/12/2019 19:56:59</td>\n",
       "      <td>7/12/2019 20:07:08</td>\n",
       "      <td>7/12/2019 20:10:37</td>\n",
       "    </tr>\n",
       "  </tbody>\n",
       "</table>\n",
       "</div>"
      ],
      "text/plain": [
       "         id     final_status  store_address_id  customer_id  courier_id  \\\n",
       "0  53134335  DeliveredStatus           85260.0     18579597    20153483   \n",
       "1  53009545  DeliveredStatus           23517.0     11871195    20153483   \n",
       "2  53129297  DeliveredStatus           18300.0      1053786    20153483   \n",
       "3  53235752   CanceledStatus           85260.0     20466508    20153483   \n",
       "4  53002671  DeliveredStatus           15912.0     16549489    20153483   \n",
       "\n",
       "         vertical  is_food transport  number_of_assignments  \\\n",
       "0  WALL - Partner     True   BICYCLE                      1   \n",
       "1  WALL - Partner     True   BICYCLE                      1   \n",
       "2  WALL - Partner     True   BICYCLE                      1   \n",
       "3  WALL - Partner     True   BICYCLE                      1   \n",
       "4  WALL - Partner     True   BICYCLE                      1   \n",
       "\n",
       "   total_real_distance activation_time_local last_courier_assigned_time  \\\n",
       "0                6.029    7/13/2019 13:04:44         7/13/2019 13:05:32   \n",
       "1                3.998    7/12/2019 20:06:29         7/12/2019 20:10:42   \n",
       "2                5.309    7/13/2019 12:14:58         7/13/2019 12:15:44   \n",
       "3                6.429    7/13/2019 21:55:58         7/13/2019 22:24:58   \n",
       "4                3.442    7/12/2019 19:40:13         7/12/2019 19:41:14   \n",
       "\n",
       "  courier_started_order_local courier_enters_pickup_time_local  \\\n",
       "0          7/13/2019 13:06:49               7/13/2019 13:09:13   \n",
       "1          7/12/2019 20:11:02               7/12/2019 20:16:05   \n",
       "2          7/13/2019 12:23:40               7/13/2019 12:45:16   \n",
       "3          7/13/2019 22:24:58                              NaN   \n",
       "4          7/12/2019 19:42:34               7/12/2019 19:46:28   \n",
       "\n",
       "    pickup_time_local courier_enters_delivery_point_time_local  \\\n",
       "0  7/13/2019 13:28:45                       7/13/2019 13:46:58   \n",
       "1  7/12/2019 20:23:07                       7/12/2019 20:37:53   \n",
       "2  7/13/2019 12:50:09                       7/13/2019 12:55:16   \n",
       "3                 NaN                                      NaN   \n",
       "4  7/12/2019 19:56:59                       7/12/2019 20:07:08   \n",
       "\n",
       "     termination_time  \n",
       "0  7/13/2019 13:59:49  \n",
       "1  7/12/2019 20:43:01  \n",
       "2  7/13/2019 12:59:23  \n",
       "3  7/13/2019 22:25:15  \n",
       "4  7/12/2019 20:10:37  "
      ]
     },
     "execution_count": 22,
     "metadata": {},
     "output_type": "execute_result"
    }
   ],
   "source": [
    "df.head()"
   ]
  },
  {
   "cell_type": "code",
   "execution_count": 25,
   "id": "97d46fed",
   "metadata": {},
   "outputs": [
    {
     "ename": "ValueError",
     "evalue": "unconverted data remains when parsing with format \"%m/%d/%Y %H:%M:%S\": \"1\", at position 2470. You might want to try:\n    - passing `format` if your strings have a consistent format;\n    - passing `format='ISO8601'` if your strings are all ISO8601 but not necessarily in exactly the same format;\n    - passing `format='mixed'`, and the format will be inferred for each element individually. You might want to use `dayfirst` alongside this.",
     "output_type": "error",
     "traceback": [
      "\u001b[31m---------------------------------------------------------------------------\u001b[39m",
      "\u001b[31mValueError\u001b[39m                                Traceback (most recent call last)",
      "\u001b[36mCell\u001b[39m\u001b[36m \u001b[39m\u001b[32mIn[25]\u001b[39m\u001b[32m, line 7\u001b[39m\n\u001b[32m      5\u001b[39m df[\u001b[33m'\u001b[39m\u001b[33mpickup_time_local\u001b[39m\u001b[33m'\u001b[39m] = pd.to_datetime(df[\u001b[33m'\u001b[39m\u001b[33mpickup_time_local\u001b[39m\u001b[33m'\u001b[39m],\u001b[38;5;28mformat\u001b[39m=\u001b[33m'\u001b[39m\u001b[33m%\u001b[39m\u001b[33mm/\u001b[39m\u001b[38;5;132;01m%d\u001b[39;00m\u001b[33m/\u001b[39m\u001b[33m%\u001b[39m\u001b[33mY \u001b[39m\u001b[33m%\u001b[39m\u001b[33mH:\u001b[39m\u001b[33m%\u001b[39m\u001b[33mM:\u001b[39m\u001b[33m%\u001b[39m\u001b[33mS\u001b[39m\u001b[33m'\u001b[39m)\n\u001b[32m      6\u001b[39m df[\u001b[33m'\u001b[39m\u001b[33mcourier_enters_delivery_point_time_local\u001b[39m\u001b[33m'\u001b[39m] = pd.to_datetime(df[\u001b[33m'\u001b[39m\u001b[33mcourier_enters_delivery_point_time_local\u001b[39m\u001b[33m'\u001b[39m],\u001b[38;5;28mformat\u001b[39m=\u001b[33m'\u001b[39m\u001b[33m%\u001b[39m\u001b[33mm/\u001b[39m\u001b[38;5;132;01m%d\u001b[39;00m\u001b[33m/\u001b[39m\u001b[33m%\u001b[39m\u001b[33mY \u001b[39m\u001b[33m%\u001b[39m\u001b[33mH:\u001b[39m\u001b[33m%\u001b[39m\u001b[33mM:\u001b[39m\u001b[33m%\u001b[39m\u001b[33mS\u001b[39m\u001b[33m'\u001b[39m)\n\u001b[32m----> \u001b[39m\u001b[32m7\u001b[39m df[\u001b[33m'\u001b[39m\u001b[33mtermination_time\u001b[39m\u001b[33m'\u001b[39m] = \u001b[43mpd\u001b[49m\u001b[43m.\u001b[49m\u001b[43mto_datetime\u001b[49m\u001b[43m(\u001b[49m\u001b[43mdf\u001b[49m\u001b[43m[\u001b[49m\u001b[33;43m'\u001b[39;49m\u001b[33;43mtermination_time\u001b[39;49m\u001b[33;43m'\u001b[39;49m\u001b[43m]\u001b[49m\u001b[43m,\u001b[49m\u001b[38;5;28;43mformat\u001b[39;49m\u001b[43m=\u001b[49m\u001b[33;43m'\u001b[39;49m\u001b[33;43m%\u001b[39;49m\u001b[33;43mm/\u001b[39;49m\u001b[38;5;132;43;01m%d\u001b[39;49;00m\u001b[33;43m/\u001b[39;49m\u001b[33;43m%\u001b[39;49m\u001b[33;43mY \u001b[39;49m\u001b[33;43m%\u001b[39;49m\u001b[33;43mH:\u001b[39;49m\u001b[33;43m%\u001b[39;49m\u001b[33;43mM:\u001b[39;49m\u001b[33;43m%\u001b[39;49m\u001b[33;43mS\u001b[39;49m\u001b[33;43m'\u001b[39;49m\u001b[43m)\u001b[49m\n",
      "\u001b[36mFile \u001b[39m\u001b[32m~/.local/lib/python3.12/site-packages/pandas/core/tools/datetimes.py:1067\u001b[39m, in \u001b[36mto_datetime\u001b[39m\u001b[34m(arg, errors, dayfirst, yearfirst, utc, format, exact, unit, infer_datetime_format, origin, cache)\u001b[39m\n\u001b[32m   1065\u001b[39m         result = arg.map(cache_array)\n\u001b[32m   1066\u001b[39m     \u001b[38;5;28;01melse\u001b[39;00m:\n\u001b[32m-> \u001b[39m\u001b[32m1067\u001b[39m         values = \u001b[43mconvert_listlike\u001b[49m\u001b[43m(\u001b[49m\u001b[43marg\u001b[49m\u001b[43m.\u001b[49m\u001b[43m_values\u001b[49m\u001b[43m,\u001b[49m\u001b[43m \u001b[49m\u001b[38;5;28;43mformat\u001b[39;49m\u001b[43m)\u001b[49m\n\u001b[32m   1068\u001b[39m         result = arg._constructor(values, index=arg.index, name=arg.name)\n\u001b[32m   1069\u001b[39m \u001b[38;5;28;01melif\u001b[39;00m \u001b[38;5;28misinstance\u001b[39m(arg, (ABCDataFrame, abc.MutableMapping)):\n",
      "\u001b[36mFile \u001b[39m\u001b[32m~/.local/lib/python3.12/site-packages/pandas/core/tools/datetimes.py:433\u001b[39m, in \u001b[36m_convert_listlike_datetimes\u001b[39m\u001b[34m(arg, format, name, utc, unit, errors, dayfirst, yearfirst, exact)\u001b[39m\n\u001b[32m    431\u001b[39m \u001b[38;5;66;03m# `format` could be inferred, or user didn't ask for mixed-format parsing.\u001b[39;00m\n\u001b[32m    432\u001b[39m \u001b[38;5;28;01mif\u001b[39;00m \u001b[38;5;28mformat\u001b[39m \u001b[38;5;129;01mis\u001b[39;00m \u001b[38;5;129;01mnot\u001b[39;00m \u001b[38;5;28;01mNone\u001b[39;00m \u001b[38;5;129;01mand\u001b[39;00m \u001b[38;5;28mformat\u001b[39m != \u001b[33m\"\u001b[39m\u001b[33mmixed\u001b[39m\u001b[33m\"\u001b[39m:\n\u001b[32m--> \u001b[39m\u001b[32m433\u001b[39m     \u001b[38;5;28;01mreturn\u001b[39;00m \u001b[43m_array_strptime_with_fallback\u001b[49m\u001b[43m(\u001b[49m\u001b[43marg\u001b[49m\u001b[43m,\u001b[49m\u001b[43m \u001b[49m\u001b[43mname\u001b[49m\u001b[43m,\u001b[49m\u001b[43m \u001b[49m\u001b[43mutc\u001b[49m\u001b[43m,\u001b[49m\u001b[43m \u001b[49m\u001b[38;5;28;43mformat\u001b[39;49m\u001b[43m,\u001b[49m\u001b[43m \u001b[49m\u001b[43mexact\u001b[49m\u001b[43m,\u001b[49m\u001b[43m \u001b[49m\u001b[43merrors\u001b[49m\u001b[43m)\u001b[49m\n\u001b[32m    435\u001b[39m result, tz_parsed = objects_to_datetime64(\n\u001b[32m    436\u001b[39m     arg,\n\u001b[32m    437\u001b[39m     dayfirst=dayfirst,\n\u001b[32m   (...)\u001b[39m\u001b[32m    441\u001b[39m     allow_object=\u001b[38;5;28;01mTrue\u001b[39;00m,\n\u001b[32m    442\u001b[39m )\n\u001b[32m    444\u001b[39m \u001b[38;5;28;01mif\u001b[39;00m tz_parsed \u001b[38;5;129;01mis\u001b[39;00m \u001b[38;5;129;01mnot\u001b[39;00m \u001b[38;5;28;01mNone\u001b[39;00m:\n\u001b[32m    445\u001b[39m     \u001b[38;5;66;03m# We can take a shortcut since the datetime64 numpy array\u001b[39;00m\n\u001b[32m    446\u001b[39m     \u001b[38;5;66;03m# is in UTC\u001b[39;00m\n",
      "\u001b[36mFile \u001b[39m\u001b[32m~/.local/lib/python3.12/site-packages/pandas/core/tools/datetimes.py:467\u001b[39m, in \u001b[36m_array_strptime_with_fallback\u001b[39m\u001b[34m(arg, name, utc, fmt, exact, errors)\u001b[39m\n\u001b[32m    456\u001b[39m \u001b[38;5;28;01mdef\u001b[39;00m\u001b[38;5;250m \u001b[39m\u001b[34m_array_strptime_with_fallback\u001b[39m(\n\u001b[32m    457\u001b[39m     arg,\n\u001b[32m    458\u001b[39m     name,\n\u001b[32m   (...)\u001b[39m\u001b[32m    462\u001b[39m     errors: \u001b[38;5;28mstr\u001b[39m,\n\u001b[32m    463\u001b[39m ) -> Index:\n\u001b[32m    464\u001b[39m \u001b[38;5;250m    \u001b[39m\u001b[33;03m\"\"\"\u001b[39;00m\n\u001b[32m    465\u001b[39m \u001b[33;03m    Call array_strptime, with fallback behavior depending on 'errors'.\u001b[39;00m\n\u001b[32m    466\u001b[39m \u001b[33;03m    \"\"\"\u001b[39;00m\n\u001b[32m--> \u001b[39m\u001b[32m467\u001b[39m     result, tz_out = \u001b[43marray_strptime\u001b[49m\u001b[43m(\u001b[49m\u001b[43marg\u001b[49m\u001b[43m,\u001b[49m\u001b[43m \u001b[49m\u001b[43mfmt\u001b[49m\u001b[43m,\u001b[49m\u001b[43m \u001b[49m\u001b[43mexact\u001b[49m\u001b[43m=\u001b[49m\u001b[43mexact\u001b[49m\u001b[43m,\u001b[49m\u001b[43m \u001b[49m\u001b[43merrors\u001b[49m\u001b[43m=\u001b[49m\u001b[43merrors\u001b[49m\u001b[43m,\u001b[49m\u001b[43m \u001b[49m\u001b[43mutc\u001b[49m\u001b[43m=\u001b[49m\u001b[43mutc\u001b[49m\u001b[43m)\u001b[49m\n\u001b[32m    468\u001b[39m     \u001b[38;5;28;01mif\u001b[39;00m tz_out \u001b[38;5;129;01mis\u001b[39;00m \u001b[38;5;129;01mnot\u001b[39;00m \u001b[38;5;28;01mNone\u001b[39;00m:\n\u001b[32m    469\u001b[39m         unit = np.datetime_data(result.dtype)[\u001b[32m0\u001b[39m]\n",
      "\u001b[36mFile \u001b[39m\u001b[32mstrptime.pyx:501\u001b[39m, in \u001b[36mpandas._libs.tslibs.strptime.array_strptime\u001b[39m\u001b[34m()\u001b[39m\n",
      "\u001b[36mFile \u001b[39m\u001b[32mstrptime.pyx:451\u001b[39m, in \u001b[36mpandas._libs.tslibs.strptime.array_strptime\u001b[39m\u001b[34m()\u001b[39m\n",
      "\u001b[36mFile \u001b[39m\u001b[32mstrptime.pyx:587\u001b[39m, in \u001b[36mpandas._libs.tslibs.strptime._parse_with_format\u001b[39m\u001b[34m()\u001b[39m\n",
      "\u001b[31mValueError\u001b[39m: unconverted data remains when parsing with format \"%m/%d/%Y %H:%M:%S\": \"1\", at position 2470. You might want to try:\n    - passing `format` if your strings have a consistent format;\n    - passing `format='ISO8601'` if your strings are all ISO8601 but not necessarily in exactly the same format;\n    - passing `format='mixed'`, and the format will be inferred for each element individually. You might want to use `dayfirst` alongside this."
     ]
    }
   ],
   "source": [
    "df['activation_time_local'] = pd.to_datetime(df['activation_time_local'],format='%m/%d/%Y %H:%M:%S')\n",
    "df['last_courier_assigned_time'] = pd.to_datetime(df['last_courier_assigned_time'],format='%m/%d/%Y %H:%M:%S')\n",
    "df['courier_started_order_local'] = pd.to_datetime(df['courier_started_order_local'],format='%m/%d/%Y %H:%M:%S')\n",
    "df['courier_enters_pickup_time_local'] = pd.to_datetime(df['courier_enters_pickup_time_local'],format='%m/%d/%Y %H:%M:%S')\n",
    "df['pickup_time_local'] = pd.to_datetime(df['pickup_time_local'],format='%m/%d/%Y %H:%M:%S')\n",
    "df['courier_enters_delivery_point_time_local'] = pd.to_datetime(df['courier_enters_delivery_point_time_local'],format='%m/%d/%Y %H:%M:%S')\n",
    "df['termination_time'] = pd.to_datetime(df['termination_time'],format='%m/%d/%Y %H:%M:%S')"
   ]
  },
  {
   "cell_type": "markdown",
   "id": "2f6ca4d6",
   "metadata": {},
   "source": [
    "# Based on the data you were given, provide visibility over the following metrics:"
   ]
  },
  {
   "cell_type": "code",
   "execution_count": null,
   "id": "89b82432",
   "metadata": {},
   "outputs": [],
   "source": [
    " #final_status                              2471 non-null   object \n",
    " #vertical                                  2471 non-null   object \n",
    " #transport                                 2471 non-null   object \n",
    " #number_of_assignments                     2471 non-null   int64  \n",
    " #total_real_distance                       2471 non-null   float64\n",
    " #activation_time_local                     2471 non-null   object \n",
    " #last_courier_assigned_time                2471 non-null   object \n",
    " #courier_started_order_local               2471 non-null   object \n",
    " #courier_enters_pickup_time_local          2410 non-null   object \n",
    " #pickup_time_local                         2410 non-null   object \n",
    " #courier_enters_delivery_point_time_local  2404 non-null   object \n",
    " #termination_time "
   ]
  },
  {
   "cell_type": "markdown",
   "id": "5e5addba",
   "metadata": {},
   "source": [
    "##  a. Delivery Time"
   ]
  },
  {
   "cell_type": "markdown",
   "id": "bc1a1d50",
   "metadata": {},
   "source": [
    "Delivery Time:\n",
    "Para mi el delivery time corresponde al tiempo desde que se asigna hasta que entra al delivery point:  courier_enters_delivery_point_time_local  - last_courier_assigned_time "
   ]
  },
  {
   "cell_type": "code",
   "execution_count": 17,
   "id": "9a24b39f",
   "metadata": {},
   "outputs": [],
   "source": [
    "df_delivered = df[df['final_status']=='DeliveredStatus']"
   ]
  },
  {
   "cell_type": "code",
   "execution_count": 21,
   "id": "730123ba",
   "metadata": {},
   "outputs": [
    {
     "data": {
      "text/plain": [
       "id                                           0\n",
       "final_status                                 0\n",
       "store_address_id                            20\n",
       "customer_id                                  0\n",
       "courier_id                                   0\n",
       "vertical                                     0\n",
       "is_food                                      0\n",
       "transport                                    0\n",
       "number_of_assignments                        0\n",
       "total_real_distance                          0\n",
       "activation_time_local                        0\n",
       "last_courier_assigned_time                   0\n",
       "courier_started_order_local                  0\n",
       "courier_enters_pickup_time_local             0\n",
       "pickup_time_local                            0\n",
       "courier_enters_delivery_point_time_local     0\n",
       "termination_time                             0\n",
       "dtype: int64"
      ]
     },
     "execution_count": 21,
     "metadata": {},
     "output_type": "execute_result"
    }
   ],
   "source": [
    "df_delivered.isnull().sum()"
   ]
  },
  {
   "cell_type": "code",
   "execution_count": 18,
   "id": "c430e6d3",
   "metadata": {},
   "outputs": [
    {
     "ename": "TypeError",
     "evalue": "unsupported operand type(s) for -: 'str' and 'str'",
     "output_type": "error",
     "traceback": [
      "\u001b[31m---------------------------------------------------------------------------\u001b[39m",
      "\u001b[31mTypeError\u001b[39m                                 Traceback (most recent call last)",
      "\u001b[36mFile \u001b[39m\u001b[32m~/.local/lib/python3.12/site-packages/pandas/core/ops/array_ops.py:218\u001b[39m, in \u001b[36m_na_arithmetic_op\u001b[39m\u001b[34m(left, right, op, is_cmp)\u001b[39m\n\u001b[32m    217\u001b[39m \u001b[38;5;28;01mtry\u001b[39;00m:\n\u001b[32m--> \u001b[39m\u001b[32m218\u001b[39m     result = \u001b[43mfunc\u001b[49m\u001b[43m(\u001b[49m\u001b[43mleft\u001b[49m\u001b[43m,\u001b[49m\u001b[43m \u001b[49m\u001b[43mright\u001b[49m\u001b[43m)\u001b[49m\n\u001b[32m    219\u001b[39m \u001b[38;5;28;01mexcept\u001b[39;00m \u001b[38;5;167;01mTypeError\u001b[39;00m:\n",
      "\u001b[36mFile \u001b[39m\u001b[32m~/.local/lib/python3.12/site-packages/pandas/core/computation/expressions.py:242\u001b[39m, in \u001b[36mevaluate\u001b[39m\u001b[34m(op, a, b, use_numexpr)\u001b[39m\n\u001b[32m    240\u001b[39m     \u001b[38;5;28;01mif\u001b[39;00m use_numexpr:\n\u001b[32m    241\u001b[39m         \u001b[38;5;66;03m# error: \"None\" not callable\u001b[39;00m\n\u001b[32m--> \u001b[39m\u001b[32m242\u001b[39m         \u001b[38;5;28;01mreturn\u001b[39;00m \u001b[43m_evaluate\u001b[49m\u001b[43m(\u001b[49m\u001b[43mop\u001b[49m\u001b[43m,\u001b[49m\u001b[43m \u001b[49m\u001b[43mop_str\u001b[49m\u001b[43m,\u001b[49m\u001b[43m \u001b[49m\u001b[43ma\u001b[49m\u001b[43m,\u001b[49m\u001b[43m \u001b[49m\u001b[43mb\u001b[49m\u001b[43m)\u001b[49m  \u001b[38;5;66;03m# type: ignore[misc]\u001b[39;00m\n\u001b[32m    243\u001b[39m \u001b[38;5;28;01mreturn\u001b[39;00m _evaluate_standard(op, op_str, a, b)\n",
      "\u001b[36mFile \u001b[39m\u001b[32m~/.local/lib/python3.12/site-packages/pandas/core/computation/expressions.py:73\u001b[39m, in \u001b[36m_evaluate_standard\u001b[39m\u001b[34m(op, op_str, a, b)\u001b[39m\n\u001b[32m     72\u001b[39m     _store_test_result(\u001b[38;5;28;01mFalse\u001b[39;00m)\n\u001b[32m---> \u001b[39m\u001b[32m73\u001b[39m \u001b[38;5;28;01mreturn\u001b[39;00m \u001b[43mop\u001b[49m\u001b[43m(\u001b[49m\u001b[43ma\u001b[49m\u001b[43m,\u001b[49m\u001b[43m \u001b[49m\u001b[43mb\u001b[49m\u001b[43m)\u001b[49m\n",
      "\u001b[31mTypeError\u001b[39m: unsupported operand type(s) for -: 'str' and 'str'",
      "\nDuring handling of the above exception, another exception occurred:\n",
      "\u001b[31mTypeError\u001b[39m                                 Traceback (most recent call last)",
      "\u001b[36mCell\u001b[39m\u001b[36m \u001b[39m\u001b[32mIn[18]\u001b[39m\u001b[32m, line 1\u001b[39m\n\u001b[32m----> \u001b[39m\u001b[32m1\u001b[39m df_delivered[\u001b[33m'\u001b[39m\u001b[33mdelivery_time\u001b[39m\u001b[33m'\u001b[39m] = \u001b[43mdf_delivered\u001b[49m\u001b[43m[\u001b[49m\u001b[33;43m'\u001b[39;49m\u001b[33;43mcourier_enters_delivery_point_time_local\u001b[39;49m\u001b[33;43m'\u001b[39;49m\u001b[43m]\u001b[49m\u001b[43m-\u001b[49m\u001b[43mdf_delivered\u001b[49m\u001b[43m[\u001b[49m\u001b[33;43m'\u001b[39;49m\u001b[33;43mlast_courier_assigned_time\u001b[39;49m\u001b[33;43m'\u001b[39;49m\u001b[43m]\u001b[49m\n",
      "\u001b[36mFile \u001b[39m\u001b[32m~/.local/lib/python3.12/site-packages/pandas/core/ops/common.py:76\u001b[39m, in \u001b[36m_unpack_zerodim_and_defer.<locals>.new_method\u001b[39m\u001b[34m(self, other)\u001b[39m\n\u001b[32m     72\u001b[39m             \u001b[38;5;28;01mreturn\u001b[39;00m \u001b[38;5;28mNotImplemented\u001b[39m\n\u001b[32m     74\u001b[39m other = item_from_zerodim(other)\n\u001b[32m---> \u001b[39m\u001b[32m76\u001b[39m \u001b[38;5;28;01mreturn\u001b[39;00m \u001b[43mmethod\u001b[49m\u001b[43m(\u001b[49m\u001b[38;5;28;43mself\u001b[39;49m\u001b[43m,\u001b[49m\u001b[43m \u001b[49m\u001b[43mother\u001b[49m\u001b[43m)\u001b[49m\n",
      "\u001b[36mFile \u001b[39m\u001b[32m~/.local/lib/python3.12/site-packages/pandas/core/arraylike.py:194\u001b[39m, in \u001b[36mOpsMixin.__sub__\u001b[39m\u001b[34m(self, other)\u001b[39m\n\u001b[32m    192\u001b[39m \u001b[38;5;129m@unpack_zerodim_and_defer\u001b[39m(\u001b[33m\"\u001b[39m\u001b[33m__sub__\u001b[39m\u001b[33m\"\u001b[39m)\n\u001b[32m    193\u001b[39m \u001b[38;5;28;01mdef\u001b[39;00m\u001b[38;5;250m \u001b[39m\u001b[34m__sub__\u001b[39m(\u001b[38;5;28mself\u001b[39m, other):\n\u001b[32m--> \u001b[39m\u001b[32m194\u001b[39m     \u001b[38;5;28;01mreturn\u001b[39;00m \u001b[38;5;28;43mself\u001b[39;49m\u001b[43m.\u001b[49m\u001b[43m_arith_method\u001b[49m\u001b[43m(\u001b[49m\u001b[43mother\u001b[49m\u001b[43m,\u001b[49m\u001b[43m \u001b[49m\u001b[43moperator\u001b[49m\u001b[43m.\u001b[49m\u001b[43msub\u001b[49m\u001b[43m)\u001b[49m\n",
      "\u001b[36mFile \u001b[39m\u001b[32m~/.local/lib/python3.12/site-packages/pandas/core/series.py:6135\u001b[39m, in \u001b[36mSeries._arith_method\u001b[39m\u001b[34m(self, other, op)\u001b[39m\n\u001b[32m   6133\u001b[39m \u001b[38;5;28;01mdef\u001b[39;00m\u001b[38;5;250m \u001b[39m\u001b[34m_arith_method\u001b[39m(\u001b[38;5;28mself\u001b[39m, other, op):\n\u001b[32m   6134\u001b[39m     \u001b[38;5;28mself\u001b[39m, other = \u001b[38;5;28mself\u001b[39m._align_for_op(other)\n\u001b[32m-> \u001b[39m\u001b[32m6135\u001b[39m     \u001b[38;5;28;01mreturn\u001b[39;00m \u001b[43mbase\u001b[49m\u001b[43m.\u001b[49m\u001b[43mIndexOpsMixin\u001b[49m\u001b[43m.\u001b[49m\u001b[43m_arith_method\u001b[49m\u001b[43m(\u001b[49m\u001b[38;5;28;43mself\u001b[39;49m\u001b[43m,\u001b[49m\u001b[43m \u001b[49m\u001b[43mother\u001b[49m\u001b[43m,\u001b[49m\u001b[43m \u001b[49m\u001b[43mop\u001b[49m\u001b[43m)\u001b[49m\n",
      "\u001b[36mFile \u001b[39m\u001b[32m~/.local/lib/python3.12/site-packages/pandas/core/base.py:1382\u001b[39m, in \u001b[36mIndexOpsMixin._arith_method\u001b[39m\u001b[34m(self, other, op)\u001b[39m\n\u001b[32m   1379\u001b[39m     rvalues = np.arange(rvalues.start, rvalues.stop, rvalues.step)\n\u001b[32m   1381\u001b[39m \u001b[38;5;28;01mwith\u001b[39;00m np.errstate(\u001b[38;5;28mall\u001b[39m=\u001b[33m\"\u001b[39m\u001b[33mignore\u001b[39m\u001b[33m\"\u001b[39m):\n\u001b[32m-> \u001b[39m\u001b[32m1382\u001b[39m     result = \u001b[43mops\u001b[49m\u001b[43m.\u001b[49m\u001b[43marithmetic_op\u001b[49m\u001b[43m(\u001b[49m\u001b[43mlvalues\u001b[49m\u001b[43m,\u001b[49m\u001b[43m \u001b[49m\u001b[43mrvalues\u001b[49m\u001b[43m,\u001b[49m\u001b[43m \u001b[49m\u001b[43mop\u001b[49m\u001b[43m)\u001b[49m\n\u001b[32m   1384\u001b[39m \u001b[38;5;28;01mreturn\u001b[39;00m \u001b[38;5;28mself\u001b[39m._construct_result(result, name=res_name)\n",
      "\u001b[36mFile \u001b[39m\u001b[32m~/.local/lib/python3.12/site-packages/pandas/core/ops/array_ops.py:283\u001b[39m, in \u001b[36marithmetic_op\u001b[39m\u001b[34m(left, right, op)\u001b[39m\n\u001b[32m    279\u001b[39m     _bool_arith_check(op, left, right)  \u001b[38;5;66;03m# type: ignore[arg-type]\u001b[39;00m\n\u001b[32m    281\u001b[39m     \u001b[38;5;66;03m# error: Argument 1 to \"_na_arithmetic_op\" has incompatible type\u001b[39;00m\n\u001b[32m    282\u001b[39m     \u001b[38;5;66;03m# \"Union[ExtensionArray, ndarray[Any, Any]]\"; expected \"ndarray[Any, Any]\"\u001b[39;00m\n\u001b[32m--> \u001b[39m\u001b[32m283\u001b[39m     res_values = \u001b[43m_na_arithmetic_op\u001b[49m\u001b[43m(\u001b[49m\u001b[43mleft\u001b[49m\u001b[43m,\u001b[49m\u001b[43m \u001b[49m\u001b[43mright\u001b[49m\u001b[43m,\u001b[49m\u001b[43m \u001b[49m\u001b[43mop\u001b[49m\u001b[43m)\u001b[49m  \u001b[38;5;66;03m# type: ignore[arg-type]\u001b[39;00m\n\u001b[32m    285\u001b[39m \u001b[38;5;28;01mreturn\u001b[39;00m res_values\n",
      "\u001b[36mFile \u001b[39m\u001b[32m~/.local/lib/python3.12/site-packages/pandas/core/ops/array_ops.py:227\u001b[39m, in \u001b[36m_na_arithmetic_op\u001b[39m\u001b[34m(left, right, op, is_cmp)\u001b[39m\n\u001b[32m    219\u001b[39m \u001b[38;5;28;01mexcept\u001b[39;00m \u001b[38;5;167;01mTypeError\u001b[39;00m:\n\u001b[32m    220\u001b[39m     \u001b[38;5;28;01mif\u001b[39;00m \u001b[38;5;129;01mnot\u001b[39;00m is_cmp \u001b[38;5;129;01mand\u001b[39;00m (\n\u001b[32m    221\u001b[39m         left.dtype == \u001b[38;5;28mobject\u001b[39m \u001b[38;5;129;01mor\u001b[39;00m \u001b[38;5;28mgetattr\u001b[39m(right, \u001b[33m\"\u001b[39m\u001b[33mdtype\u001b[39m\u001b[33m\"\u001b[39m, \u001b[38;5;28;01mNone\u001b[39;00m) == \u001b[38;5;28mobject\u001b[39m\n\u001b[32m    222\u001b[39m     ):\n\u001b[32m   (...)\u001b[39m\u001b[32m    225\u001b[39m         \u001b[38;5;66;03m# Don't do this for comparisons, as that will handle complex numbers\u001b[39;00m\n\u001b[32m    226\u001b[39m         \u001b[38;5;66;03m#  incorrectly, see GH#32047\u001b[39;00m\n\u001b[32m--> \u001b[39m\u001b[32m227\u001b[39m         result = \u001b[43m_masked_arith_op\u001b[49m\u001b[43m(\u001b[49m\u001b[43mleft\u001b[49m\u001b[43m,\u001b[49m\u001b[43m \u001b[49m\u001b[43mright\u001b[49m\u001b[43m,\u001b[49m\u001b[43m \u001b[49m\u001b[43mop\u001b[49m\u001b[43m)\u001b[49m\n\u001b[32m    228\u001b[39m     \u001b[38;5;28;01melse\u001b[39;00m:\n\u001b[32m    229\u001b[39m         \u001b[38;5;28;01mraise\u001b[39;00m\n",
      "\u001b[36mFile \u001b[39m\u001b[32m~/.local/lib/python3.12/site-packages/pandas/core/ops/array_ops.py:163\u001b[39m, in \u001b[36m_masked_arith_op\u001b[39m\u001b[34m(x, y, op)\u001b[39m\n\u001b[32m    161\u001b[39m     \u001b[38;5;66;03m# See GH#5284, GH#5035, GH#19448 for historical reference\u001b[39;00m\n\u001b[32m    162\u001b[39m     \u001b[38;5;28;01mif\u001b[39;00m mask.any():\n\u001b[32m--> \u001b[39m\u001b[32m163\u001b[39m         result[mask] = \u001b[43mop\u001b[49m\u001b[43m(\u001b[49m\u001b[43mxrav\u001b[49m\u001b[43m[\u001b[49m\u001b[43mmask\u001b[49m\u001b[43m]\u001b[49m\u001b[43m,\u001b[49m\u001b[43m \u001b[49m\u001b[43myrav\u001b[49m\u001b[43m[\u001b[49m\u001b[43mmask\u001b[49m\u001b[43m]\u001b[49m\u001b[43m)\u001b[49m\n\u001b[32m    165\u001b[39m \u001b[38;5;28;01melse\u001b[39;00m:\n\u001b[32m    166\u001b[39m     \u001b[38;5;28;01mif\u001b[39;00m \u001b[38;5;129;01mnot\u001b[39;00m is_scalar(y):\n",
      "\u001b[31mTypeError\u001b[39m: unsupported operand type(s) for -: 'str' and 'str'"
     ]
    }
   ],
   "source": [
    "df_delivered['delivery_time'] = df_delivered['courier_enters_delivery_point_time_local']-df_delivered['last_courier_assigned_time']"
   ]
  },
  {
   "cell_type": "code",
   "execution_count": 11,
   "id": "5ae65dcc",
   "metadata": {},
   "outputs": [
    {
     "data": {
      "text/plain": [
       "final_status\n",
       "DeliveredStatus    2389\n",
       "CanceledStatus       82\n",
       "Name: count, dtype: int64"
      ]
     },
     "execution_count": 11,
     "metadata": {},
     "output_type": "execute_result"
    }
   ],
   "source": [
    "df['final_status'].value_counts()"
   ]
  },
  {
   "cell_type": "code",
   "execution_count": 13,
   "id": "ce873cbd",
   "metadata": {},
   "outputs": [
    {
     "data": {
      "text/plain": [
       "vertical\n",
       "WALL - Partner       2411\n",
       "QUIERO                 30\n",
       "WALL - NonPartner      29\n",
       "COURIER                 1\n",
       "Name: count, dtype: int64"
      ]
     },
     "execution_count": 13,
     "metadata": {},
     "output_type": "execute_result"
    }
   ],
   "source": [
    "df['vertical'].value_counts()\n",
    "# 1) ALL - Partner: the order was for a store which is our partner (they receive the orders through the partner web-app before the courier arrives there.\n",
    "# 2) ALL - NonPartner: the order was for a store which we have as “Fake” (we have no agreements with this store, so the courier needs to go inside and order as a regular customer)\n",
    "# 3) QUIERO: the order was done through the central “Anything” button on the app where customers can ask us to deliver anything that fits into a Glovo backpack. (operationally similar to the WALL-NonPartner)"
   ]
  },
  {
   "cell_type": "markdown",
   "id": "27f8506f",
   "metadata": {},
   "source": [
    "Based on the data you were given, provide visibility over the following metrics: a. Delivery Time b. Delivery Distance c. Reassignment Rate (whenever we need to assign an order to another courier after the first assignment it counts as a reassignment) d. Courier Capacity (how many orders, on average, a courier is able to deliver deliver during 1h of work) e. Waiting time at pickup (time between arrival and the store, “courier_enters_pickup” , and picking up the order, “pickup_time”)"
   ]
  },
  {
   "cell_type": "code",
   "execution_count": 14,
   "id": "2e59e8aa",
   "metadata": {},
   "outputs": [
    {
     "data": {
      "text/plain": [
       "transport\n",
       "BICYCLE      1255\n",
       "MOTORBIKE     793\n",
       "CAR           423\n",
       "Name: count, dtype: int64"
      ]
     },
     "execution_count": 14,
     "metadata": {},
     "output_type": "execute_result"
    }
   ],
   "source": [
    "df['transport'].value_counts()"
   ]
  },
  {
   "cell_type": "code",
   "execution_count": null,
   "id": "7c9bf277",
   "metadata": {},
   "outputs": [
    {
     "data": {
      "text/plain": [
       "number_of_assignments\n",
       "1    2129\n",
       "2     274\n",
       "3      56\n",
       "4       9\n",
       "6       2\n",
       "5       1\n",
       "Name: count, dtype: int64"
      ]
     },
     "execution_count": 15,
     "metadata": {},
     "output_type": "execute_result"
    }
   ],
   "source": [
    "df['number_of_assignments'].value_counts()\n",
    "# shows how many times we needed to assign different couriers to the orders"
   ]
  },
  {
   "cell_type": "code",
   "execution_count": 16,
   "id": "145b388d",
   "metadata": {},
   "outputs": [
    {
     "data": {
      "text/plain": [
       "total_real_distance\n",
       "3.804     5\n",
       "8.243     4\n",
       "2.396     4\n",
       "2.710     4\n",
       "3.322     4\n",
       "         ..\n",
       "4.896     1\n",
       "2.934     1\n",
       "3.517     1\n",
       "4.337     1\n",
       "13.913    1\n",
       "Name: count, Length: 2080, dtype: int64"
      ]
     },
     "execution_count": 16,
     "metadata": {},
     "output_type": "execute_result"
    }
   ],
   "source": [
    "df['total_real_distance'].value_counts()"
   ]
  }
 ],
 "metadata": {
  "kernelspec": {
   "display_name": "Python 3",
   "language": "python",
   "name": "python3"
  },
  "language_info": {
   "codemirror_mode": {
    "name": "ipython",
    "version": 3
   },
   "file_extension": ".py",
   "mimetype": "text/x-python",
   "name": "python",
   "nbconvert_exporter": "python",
   "pygments_lexer": "ipython3",
   "version": "3.12.1"
  }
 },
 "nbformat": 4,
 "nbformat_minor": 5
}
